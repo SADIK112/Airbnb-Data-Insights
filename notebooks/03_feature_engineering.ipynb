{
 "cells": [
  {
   "cell_type": "code",
   "execution_count": 96,
   "id": "fa7a9cc3",
   "metadata": {},
   "outputs": [
    {
     "name": "stderr",
     "output_type": "stream",
     "text": [
      "/var/folders/td/ww89yxjs78g7pbjshk80ysbr0000gn/T/ipykernel_30988/3911242594.py:5: DtypeWarning: Columns (25) have mixed types. Specify dtype option on import or set low_memory=False.\n",
      "  airbnb_df = pd.read_csv(\"../data/processed/airbnb_listings.csv\")\n"
     ]
    },
    {
     "data": {
      "text/html": [
       "<div>\n",
       "<style scoped>\n",
       "    .dataframe tbody tr th:only-of-type {\n",
       "        vertical-align: middle;\n",
       "    }\n",
       "\n",
       "    .dataframe tbody tr th {\n",
       "        vertical-align: top;\n",
       "    }\n",
       "\n",
       "    .dataframe thead th {\n",
       "        text-align: right;\n",
       "    }\n",
       "</style>\n",
       "<table border=\"1\" class=\"dataframe\">\n",
       "  <thead>\n",
       "    <tr style=\"text-align: right;\">\n",
       "      <th></th>\n",
       "      <th>id</th>\n",
       "      <th>name</th>\n",
       "      <th>host_id</th>\n",
       "      <th>host_identity_verified</th>\n",
       "      <th>host_name</th>\n",
       "      <th>neighbourhood_group</th>\n",
       "      <th>neighbourhood</th>\n",
       "      <th>lat</th>\n",
       "      <th>long</th>\n",
       "      <th>country</th>\n",
       "      <th>...</th>\n",
       "      <th>service_fee</th>\n",
       "      <th>minimum_nights</th>\n",
       "      <th>number_of_reviews</th>\n",
       "      <th>last_review</th>\n",
       "      <th>reviews_per_month</th>\n",
       "      <th>review_rate_number</th>\n",
       "      <th>calculated_host_listings_count</th>\n",
       "      <th>availability_365</th>\n",
       "      <th>house_rules</th>\n",
       "      <th>license</th>\n",
       "    </tr>\n",
       "  </thead>\n",
       "  <tbody>\n",
       "    <tr>\n",
       "      <th>0</th>\n",
       "      <td>1001254</td>\n",
       "      <td>Clean &amp; quiet apt home by the park</td>\n",
       "      <td>80014485718</td>\n",
       "      <td>unconfirmed</td>\n",
       "      <td>Madaline</td>\n",
       "      <td>Brooklyn</td>\n",
       "      <td>Kensington</td>\n",
       "      <td>40.64749</td>\n",
       "      <td>-73.97237</td>\n",
       "      <td>United States</td>\n",
       "      <td>...</td>\n",
       "      <td>193.0</td>\n",
       "      <td>10.0</td>\n",
       "      <td>9.0</td>\n",
       "      <td>2021-10-19</td>\n",
       "      <td>0.21</td>\n",
       "      <td>4.0</td>\n",
       "      <td>6.0</td>\n",
       "      <td>286.0</td>\n",
       "      <td>Clean up and treat the home the way you'd like...</td>\n",
       "      <td>NaN</td>\n",
       "    </tr>\n",
       "    <tr>\n",
       "      <th>1</th>\n",
       "      <td>1002102</td>\n",
       "      <td>Skylit Midtown Castle</td>\n",
       "      <td>52335172823</td>\n",
       "      <td>verified</td>\n",
       "      <td>Jenna</td>\n",
       "      <td>Manhattan</td>\n",
       "      <td>Midtown</td>\n",
       "      <td>40.75362</td>\n",
       "      <td>-73.98377</td>\n",
       "      <td>United States</td>\n",
       "      <td>...</td>\n",
       "      <td>28.0</td>\n",
       "      <td>30.0</td>\n",
       "      <td>45.0</td>\n",
       "      <td>2022-05-21</td>\n",
       "      <td>0.38</td>\n",
       "      <td>4.0</td>\n",
       "      <td>2.0</td>\n",
       "      <td>228.0</td>\n",
       "      <td>Pet friendly but please confirm with me if the...</td>\n",
       "      <td>NaN</td>\n",
       "    </tr>\n",
       "    <tr>\n",
       "      <th>2</th>\n",
       "      <td>1002403</td>\n",
       "      <td>THE VILLAGE OF HARLEM....NEW YORK !</td>\n",
       "      <td>78829239556</td>\n",
       "      <td>unconfirmed</td>\n",
       "      <td>Elise</td>\n",
       "      <td>Manhattan</td>\n",
       "      <td>Harlem</td>\n",
       "      <td>40.80902</td>\n",
       "      <td>-73.94190</td>\n",
       "      <td>United States</td>\n",
       "      <td>...</td>\n",
       "      <td>124.0</td>\n",
       "      <td>3.0</td>\n",
       "      <td>0.0</td>\n",
       "      <td>NaN</td>\n",
       "      <td>0.00</td>\n",
       "      <td>5.0</td>\n",
       "      <td>1.0</td>\n",
       "      <td>352.0</td>\n",
       "      <td>I encourage you to use my kitchen, cooking and...</td>\n",
       "      <td>NaN</td>\n",
       "    </tr>\n",
       "    <tr>\n",
       "      <th>3</th>\n",
       "      <td>1002755</td>\n",
       "      <td>NaN</td>\n",
       "      <td>85098326012</td>\n",
       "      <td>unconfirmed</td>\n",
       "      <td>Garry</td>\n",
       "      <td>Brooklyn</td>\n",
       "      <td>Clinton Hill</td>\n",
       "      <td>40.68514</td>\n",
       "      <td>-73.95976</td>\n",
       "      <td>United States</td>\n",
       "      <td>...</td>\n",
       "      <td>74.0</td>\n",
       "      <td>30.0</td>\n",
       "      <td>270.0</td>\n",
       "      <td>2019-07-05</td>\n",
       "      <td>4.64</td>\n",
       "      <td>4.0</td>\n",
       "      <td>1.0</td>\n",
       "      <td>322.0</td>\n",
       "      <td>NaN</td>\n",
       "      <td>NaN</td>\n",
       "    </tr>\n",
       "    <tr>\n",
       "      <th>4</th>\n",
       "      <td>1003689</td>\n",
       "      <td>Entire Apt: Spacious Studio/Loft by central park</td>\n",
       "      <td>92037596077</td>\n",
       "      <td>verified</td>\n",
       "      <td>Lyndon</td>\n",
       "      <td>Manhattan</td>\n",
       "      <td>East Harlem</td>\n",
       "      <td>40.79851</td>\n",
       "      <td>-73.94399</td>\n",
       "      <td>United States</td>\n",
       "      <td>...</td>\n",
       "      <td>41.0</td>\n",
       "      <td>10.0</td>\n",
       "      <td>9.0</td>\n",
       "      <td>2018-11-19</td>\n",
       "      <td>0.10</td>\n",
       "      <td>3.0</td>\n",
       "      <td>1.0</td>\n",
       "      <td>289.0</td>\n",
       "      <td>Please no smoking in the house, porch or on th...</td>\n",
       "      <td>NaN</td>\n",
       "    </tr>\n",
       "  </tbody>\n",
       "</table>\n",
       "<p>5 rows × 26 columns</p>\n",
       "</div>"
      ],
      "text/plain": [
       "        id                                              name      host_id  \\\n",
       "0  1001254                Clean & quiet apt home by the park  80014485718   \n",
       "1  1002102                             Skylit Midtown Castle  52335172823   \n",
       "2  1002403               THE VILLAGE OF HARLEM....NEW YORK !  78829239556   \n",
       "3  1002755                                               NaN  85098326012   \n",
       "4  1003689  Entire Apt: Spacious Studio/Loft by central park  92037596077   \n",
       "\n",
       "  host_identity_verified host_name neighbourhood_group neighbourhood  \\\n",
       "0            unconfirmed  Madaline            Brooklyn    Kensington   \n",
       "1               verified     Jenna           Manhattan       Midtown   \n",
       "2            unconfirmed     Elise           Manhattan        Harlem   \n",
       "3            unconfirmed     Garry            Brooklyn  Clinton Hill   \n",
       "4               verified    Lyndon           Manhattan   East Harlem   \n",
       "\n",
       "        lat      long        country  ... service_fee  minimum_nights  \\\n",
       "0  40.64749 -73.97237  United States  ...       193.0            10.0   \n",
       "1  40.75362 -73.98377  United States  ...        28.0            30.0   \n",
       "2  40.80902 -73.94190  United States  ...       124.0             3.0   \n",
       "3  40.68514 -73.95976  United States  ...        74.0            30.0   \n",
       "4  40.79851 -73.94399  United States  ...        41.0            10.0   \n",
       "\n",
       "  number_of_reviews last_review  reviews_per_month  review_rate_number  \\\n",
       "0               9.0  2021-10-19               0.21                 4.0   \n",
       "1              45.0  2022-05-21               0.38                 4.0   \n",
       "2               0.0         NaN               0.00                 5.0   \n",
       "3             270.0  2019-07-05               4.64                 4.0   \n",
       "4               9.0  2018-11-19               0.10                 3.0   \n",
       "\n",
       "   calculated_host_listings_count  availability_365  \\\n",
       "0                             6.0             286.0   \n",
       "1                             2.0             228.0   \n",
       "2                             1.0             352.0   \n",
       "3                             1.0             322.0   \n",
       "4                             1.0             289.0   \n",
       "\n",
       "                                         house_rules license  \n",
       "0  Clean up and treat the home the way you'd like...     NaN  \n",
       "1  Pet friendly but please confirm with me if the...     NaN  \n",
       "2  I encourage you to use my kitchen, cooking and...     NaN  \n",
       "3                                                NaN     NaN  \n",
       "4  Please no smoking in the house, porch or on th...     NaN  \n",
       "\n",
       "[5 rows x 26 columns]"
      ]
     },
     "execution_count": 96,
     "metadata": {},
     "output_type": "execute_result"
    }
   ],
   "source": [
    "import pandas as pd\n",
    "import numpy as np\n",
    "\n",
    "# Load the data\n",
    "airbnb_df = pd.read_csv(\"../data/processed/airbnb_listings.csv\")\n",
    "airbnb_df.head(5)"
   ]
  },
  {
   "cell_type": "code",
   "execution_count": 97,
   "id": "75e8f64d",
   "metadata": {},
   "outputs": [
    {
     "data": {
      "text/plain": [
       "id                                     0\n",
       "name                                 270\n",
       "host_id                                0\n",
       "host_identity_verified                 0\n",
       "host_name                            404\n",
       "neighbourhood_group                    0\n",
       "neighbourhood                          0\n",
       "lat                                    0\n",
       "long                                   0\n",
       "country                                0\n",
       "country_code                           0\n",
       "instant_bookable                       0\n",
       "cancellation_policy                    0\n",
       "room_type                              0\n",
       "construction_year                    214\n",
       "price                                  0\n",
       "service_fee                            0\n",
       "minimum_nights                         0\n",
       "number_of_reviews                      0\n",
       "last_review                        15832\n",
       "reviews_per_month                      0\n",
       "review_rate_number                     0\n",
       "calculated_host_listings_count         0\n",
       "availability_365                       0\n",
       "house_rules                        51842\n",
       "license                           102056\n",
       "dtype: int64"
      ]
     },
     "execution_count": 97,
     "metadata": {},
     "output_type": "execute_result"
    }
   ],
   "source": [
    "airbnb_df.isna().sum()"
   ]
  },
  {
   "cell_type": "code",
   "execution_count": 98,
   "id": "a308ff73",
   "metadata": {},
   "outputs": [
    {
     "data": {
      "text/plain": [
       "0    34\n",
       "1    21\n",
       "2    35\n",
       "3     0\n",
       "4    48\n",
       "Name: name_length, dtype: int64"
      ]
     },
     "execution_count": 98,
     "metadata": {},
     "output_type": "execute_result"
    }
   ],
   "source": [
    "\"\"\"\n",
    "    Create a new feature for name column which is the length of the name.\n",
    "    Drop the name column once the new feature is created\n",
    "\"\"\"\n",
    "\n",
    "airbnb_df[\"name_length\"] = airbnb_df[\"name\"].fillna(\"\").apply(len)\n",
    "airbnb_df.drop(columns = [\"name\"], inplace = True)\n",
    "airbnb_df[\"name_length\"].head(5)"
   ]
  },
  {
   "cell_type": "code",
   "execution_count": 99,
   "id": "1603a390",
   "metadata": {},
   "outputs": [
    {
     "data": {
      "text/plain": [
       "array([0, 1])"
      ]
     },
     "execution_count": 99,
     "metadata": {},
     "output_type": "execute_result"
    }
   ],
   "source": [
    "\"\"\"\n",
    "    Change the host_identity_verified Categorical values to 1 and 0. 1 -> verified, 0 -> unconfirmed\n",
    "\"\"\"\n",
    "\n",
    "airbnb_df[\"host_identity_verified\"] = airbnb_df[\"host_identity_verified\"].map({\"verified\": 1, \"unconfirmed\": 0})\n",
    "airbnb_df[\"host_identity_verified\"].unique()"
   ]
  },
  {
   "cell_type": "code",
   "execution_count": 100,
   "id": "44db3fdd",
   "metadata": {},
   "outputs": [
    {
     "data": {
      "text/plain": [
       "array([0, 1])"
      ]
     },
     "execution_count": 100,
     "metadata": {},
     "output_type": "execute_result"
    }
   ],
   "source": [
    "\"\"\"\n",
    "    Change the instant_bookable Categorical(boolean) values to 1 and 0. 1 -> True, 0 -> False\n",
    "\"\"\"\n",
    "\n",
    "airbnb_df[\"instant_bookable\"] = airbnb_df[\"instant_bookable\"].map({ True: 1, False: 0 })\n",
    "airbnb_df[\"instant_bookable\"].unique()"
   ]
  },
  {
   "cell_type": "code",
   "execution_count": 101,
   "id": "9ce289b5",
   "metadata": {},
   "outputs": [
    {
     "data": {
      "text/html": [
       "<div>\n",
       "<style scoped>\n",
       "    .dataframe tbody tr th:only-of-type {\n",
       "        vertical-align: middle;\n",
       "    }\n",
       "\n",
       "    .dataframe tbody tr th {\n",
       "        vertical-align: top;\n",
       "    }\n",
       "\n",
       "    .dataframe thead th {\n",
       "        text-align: right;\n",
       "    }\n",
       "</style>\n",
       "<table border=\"1\" class=\"dataframe\">\n",
       "  <thead>\n",
       "    <tr style=\"text-align: right;\">\n",
       "      <th></th>\n",
       "      <th>policy_flexible</th>\n",
       "      <th>policy_moderate</th>\n",
       "      <th>policy_strict</th>\n",
       "    </tr>\n",
       "  </thead>\n",
       "  <tbody>\n",
       "    <tr>\n",
       "      <th>0</th>\n",
       "      <td>0</td>\n",
       "      <td>0</td>\n",
       "      <td>1</td>\n",
       "    </tr>\n",
       "    <tr>\n",
       "      <th>1</th>\n",
       "      <td>0</td>\n",
       "      <td>1</td>\n",
       "      <td>0</td>\n",
       "    </tr>\n",
       "    <tr>\n",
       "      <th>2</th>\n",
       "      <td>1</td>\n",
       "      <td>0</td>\n",
       "      <td>0</td>\n",
       "    </tr>\n",
       "    <tr>\n",
       "      <th>3</th>\n",
       "      <td>0</td>\n",
       "      <td>1</td>\n",
       "      <td>0</td>\n",
       "    </tr>\n",
       "    <tr>\n",
       "      <th>4</th>\n",
       "      <td>0</td>\n",
       "      <td>1</td>\n",
       "      <td>0</td>\n",
       "    </tr>\n",
       "  </tbody>\n",
       "</table>\n",
       "</div>"
      ],
      "text/plain": [
       "   policy_flexible  policy_moderate  policy_strict\n",
       "0                0                0              1\n",
       "1                0                1              0\n",
       "2                1                0              0\n",
       "3                0                1              0\n",
       "4                0                1              0"
      ]
     },
     "execution_count": 101,
     "metadata": {},
     "output_type": "execute_result"
    }
   ],
   "source": [
    "\"\"\"\n",
    "    Performing one hot encoding to cancellation_policy feature to convert the three \n",
    "    different common values to individual features.\n",
    "\"\"\"\n",
    "\n",
    "airbnb_df = pd.get_dummies(airbnb_df, columns = [\"cancellation_policy\"], prefix = \"policy\", dtype = int)\n",
    "airbnb_df[[\"policy_flexible\", \"policy_moderate\", \"policy_strict\"]].head(5)"
   ]
  },
  {
   "cell_type": "code",
   "execution_count": 102,
   "id": "f007615e",
   "metadata": {},
   "outputs": [
    {
     "data": {
      "text/html": [
       "<div>\n",
       "<style scoped>\n",
       "    .dataframe tbody tr th:only-of-type {\n",
       "        vertical-align: middle;\n",
       "    }\n",
       "\n",
       "    .dataframe tbody tr th {\n",
       "        vertical-align: top;\n",
       "    }\n",
       "\n",
       "    .dataframe thead th {\n",
       "        text-align: right;\n",
       "    }\n",
       "</style>\n",
       "<table border=\"1\" class=\"dataframe\">\n",
       "  <thead>\n",
       "    <tr style=\"text-align: right;\">\n",
       "      <th></th>\n",
       "      <th>Entire home/apt</th>\n",
       "      <th>Hotel room</th>\n",
       "      <th>Private room</th>\n",
       "      <th>Shared room</th>\n",
       "    </tr>\n",
       "  </thead>\n",
       "  <tbody>\n",
       "    <tr>\n",
       "      <th>0</th>\n",
       "      <td>0</td>\n",
       "      <td>0</td>\n",
       "      <td>1</td>\n",
       "      <td>0</td>\n",
       "    </tr>\n",
       "    <tr>\n",
       "      <th>1</th>\n",
       "      <td>1</td>\n",
       "      <td>0</td>\n",
       "      <td>0</td>\n",
       "      <td>0</td>\n",
       "    </tr>\n",
       "    <tr>\n",
       "      <th>2</th>\n",
       "      <td>0</td>\n",
       "      <td>0</td>\n",
       "      <td>1</td>\n",
       "      <td>0</td>\n",
       "    </tr>\n",
       "    <tr>\n",
       "      <th>3</th>\n",
       "      <td>1</td>\n",
       "      <td>0</td>\n",
       "      <td>0</td>\n",
       "      <td>0</td>\n",
       "    </tr>\n",
       "    <tr>\n",
       "      <th>4</th>\n",
       "      <td>1</td>\n",
       "      <td>0</td>\n",
       "      <td>0</td>\n",
       "      <td>0</td>\n",
       "    </tr>\n",
       "  </tbody>\n",
       "</table>\n",
       "</div>"
      ],
      "text/plain": [
       "   Entire home/apt  Hotel room  Private room  Shared room\n",
       "0                0           0             1            0\n",
       "1                1           0             0            0\n",
       "2                0           0             1            0\n",
       "3                1           0             0            0\n",
       "4                1           0             0            0"
      ]
     },
     "execution_count": 102,
     "metadata": {},
     "output_type": "execute_result"
    }
   ],
   "source": [
    "\"\"\"\n",
    "    Performing one hot encoding to room_type feature to convert the four \n",
    "    different common values to individual features.\n",
    "\"\"\"\n",
    "\n",
    "airbnb_df = pd.get_dummies(\n",
    "    airbnb_df, \n",
    "    columns=[\"room_type\"], \n",
    "    prefix=\"\", \n",
    "    prefix_sep=\"\",\n",
    "    dtype=int\n",
    ")\n",
    "airbnb_df[[\"Entire home/apt\", \"Hotel room\", \"Private room\", \"Shared room\"]].head(5)"
   ]
  },
  {
   "cell_type": "code",
   "execution_count": 103,
   "id": "136fe9ed",
   "metadata": {},
   "outputs": [
    {
     "data": {
      "text/plain": [
       "array(['brooklyn', 'manhattan', 'queens', 'williamsburg', 'staten island',\n",
       "       'bronx'], dtype=object)"
      ]
     },
     "execution_count": 103,
     "metadata": {},
     "output_type": "execute_result"
    }
   ],
   "source": [
    "\"\"\"\n",
    "    Updating the neighbourhood_group values to lower case\n",
    "    fixing the name of the neighbourhood and also fixing duplicate\n",
    "\"\"\"\n",
    "\n",
    "airbnb_df[\"neighbourhood_group\"] = airbnb_df[\"neighbourhood_group\"].str.lower()\n",
    "\n",
    "replace_map = {\n",
    "    \"brookln\": \"brooklyn\",\n",
    "    \"manhatan\": \"manhattan\"\n",
    "}\n",
    "airbnb_df[\"neighbourhood_group\"] = airbnb_df[\"neighbourhood_group\"].replace(replace_map)\n",
    "airbnb_df[\"neighbourhood_group\"].unique()"
   ]
  },
  {
   "cell_type": "code",
   "execution_count": 104,
   "id": "054cf345",
   "metadata": {},
   "outputs": [],
   "source": [
    "\"\"\"\n",
    "    Update the neighbourhood_group to categorial value using one hot encoding\n",
    "\"\"\"\n",
    "\n",
    "airbnb_df = pd.get_dummies(airbnb_df, columns = [\"neighbourhood_group\"], prefix = \"neighbourhood_group\", dtype = int)"
   ]
  },
  {
   "cell_type": "code",
   "execution_count": 105,
   "id": "986fe0b9",
   "metadata": {},
   "outputs": [
    {
     "data": {
      "text/plain": [
       "0    611.188011\n",
       "1    609.853143\n",
       "2    626.977210\n",
       "3    632.416740\n",
       "4    627.555125\n",
       "Name: neigh_encoded, dtype: float64"
      ]
     },
     "execution_count": 105,
     "metadata": {},
     "output_type": "execute_result"
    }
   ],
   "source": [
    "\"\"\"\n",
    "    Using target encoding as we have enough samples per neighborhood.\n",
    "    Creates a new column (neigh_encoded) where each row gets the average price of all listings within the same neighborhood.\n",
    "\"\"\"\n",
    "\n",
    "airbnb_df[\"neigh_encoded\"] = airbnb_df.groupby(\"neighbourhood\")[\"price\"].transform(\"mean\")\n",
    "airbnb_df[\"neigh_encoded\"].head(5)"
   ]
  },
  {
   "cell_type": "code",
   "execution_count": 106,
   "id": "b1a4cf65",
   "metadata": {},
   "outputs": [
    {
     "data": {
      "text/plain": [
       "0    9\n",
       "1    0\n",
       "2    7\n",
       "3    1\n",
       "4    8\n",
       "Name: location_cluster, dtype: int32"
      ]
     },
     "execution_count": 106,
     "metadata": {},
     "output_type": "execute_result"
    }
   ],
   "source": [
    "\"\"\"\n",
    "    Group nearby listings into clusters based on coordinates.\n",
    "\"\"\"\n",
    "\n",
    "from sklearn.cluster import KMeans\n",
    "\n",
    "coords = airbnb_df[[\"lat\", \"long\"]]\n",
    "kmeans = KMeans(n_clusters = 10, random_state = 42)\n",
    "airbnb_df[\"location_cluster\"] = kmeans.fit_predict(coords)\n",
    "airbnb_df[\"location_cluster\"].head(5)"
   ]
  },
  {
   "cell_type": "code",
   "execution_count": 107,
   "id": "0358cbad",
   "metadata": {},
   "outputs": [
    {
     "data": {
      "text/plain": [
       "location_cluster\n",
       "0    25156\n",
       "1    19411\n",
       "6    13017\n",
       "8    12893\n",
       "9    10183\n",
       "7     7876\n",
       "3     6941\n",
       "2     3417\n",
       "4     2196\n",
       "5      968\n",
       "Name: count, dtype: int64"
      ]
     },
     "execution_count": 107,
     "metadata": {},
     "output_type": "execute_result"
    }
   ],
   "source": [
    "airbnb_df[\"location_cluster\"].value_counts()"
   ]
  },
  {
   "cell_type": "code",
   "execution_count": 108,
   "id": "52585b6b",
   "metadata": {},
   "outputs": [],
   "source": [
    "# Temporal feature extraction\n",
    "airbnb_df[\"last_review\"] = pd.to_datetime(airbnb_df[\"last_review\"], errors = \"coerce\")\n",
    "\n",
    "airbnb_df[\"days_since_last_review\"] = (pd.Timestamp.today() - airbnb_df[\"last_review\"]).dt.days\n",
    "airbnb_df[\"days_since_last_review\"] = airbnb_df['days_since_last_review'].fillna(-1)\n",
    "\n",
    "airbnb_df[\"last_review_year\"] = airbnb_df[\"last_review\"].dt.year\n",
    "airbnb_df[\"last_review_year\"] = airbnb_df['last_review_year'].fillna(-1)\n",
    "\n",
    "airbnb_df[\"last_review_month\"] = airbnb_df[\"last_review\"].dt.month\n",
    "airbnb_df[\"last_review_month\"] = airbnb_df['last_review_month'].fillna(-1)\n",
    "\n",
    "airbnb_df[\"last_review_dayofweek\"] = airbnb_df[\"last_review\"].dt.dayofweek\n",
    "airbnb_df[\"last_review_dayofweek\"] = airbnb_df['last_review_dayofweek'].fillna(-1)"
   ]
  },
  {
   "cell_type": "code",
   "execution_count": 109,
   "id": "9312e4f7",
   "metadata": {},
   "outputs": [],
   "source": [
    "# Domain-specific feature engineering\n",
    "airbnb_df[\"availability_ratio\"] = airbnb_df[\"availability_365\"] / 365\n",
    "airbnb_df[\"price_per_min_stay\"] = airbnb_df['price'] / airbnb_df['minimum_nights'].replace(0, 1)\n",
    "\n",
    "airbnb_df[\"property_age\"] = 2025 - airbnb_df[\"construction_year\"]\n",
    "airbnb_df[\"property_age\"] = airbnb_df['property_age'].fillna(-1)\n",
    "\n",
    "airbnb_df[\"has_house_rules\"] = airbnb_df[\"house_rules\"].notna().astype(int)\n",
    "airbnb_df[\"has_license\"] = airbnb_df[\"license\"].notna().astype(int)\n",
    "airbnb_df[\"total_cost\"] = airbnb_df[\"price\"] + airbnb_df[\"service_fee\"]\n",
    "airbnb_df[\"popularity_score\"] = airbnb_df[\"review_rate_number\"] * airbnb_df[\"number_of_reviews\"]"
   ]
  },
  {
   "cell_type": "code",
   "execution_count": 110,
   "id": "156af4f0",
   "metadata": {},
   "outputs": [
    {
     "data": {
      "text/plain": [
       "Index(['id', 'host_id', 'host_identity_verified', 'host_name', 'neighbourhood',\n",
       "       'lat', 'long', 'country', 'country_code', 'instant_bookable',\n",
       "       'construction_year', 'price', 'service_fee', 'minimum_nights',\n",
       "       'number_of_reviews', 'last_review', 'reviews_per_month',\n",
       "       'review_rate_number', 'calculated_host_listings_count',\n",
       "       'availability_365', 'house_rules', 'license', 'name_length',\n",
       "       'policy_flexible', 'policy_moderate', 'policy_strict',\n",
       "       'Entire home/apt', 'Hotel room', 'Private room', 'Shared room',\n",
       "       'neighbourhood_group_bronx', 'neighbourhood_group_brooklyn',\n",
       "       'neighbourhood_group_manhattan', 'neighbourhood_group_queens',\n",
       "       'neighbourhood_group_staten island', 'neighbourhood_group_williamsburg',\n",
       "       'neigh_encoded', 'location_cluster', 'days_since_last_review',\n",
       "       'last_review_year', 'last_review_month', 'last_review_dayofweek',\n",
       "       'availability_ratio', 'price_per_min_stay', 'property_age',\n",
       "       'has_house_rules', 'has_license', 'total_cost', 'popularity_score'],\n",
       "      dtype='object')"
      ]
     },
     "execution_count": 110,
     "metadata": {},
     "output_type": "execute_result"
    }
   ],
   "source": [
    "airbnb_df.columns"
   ]
  },
  {
   "cell_type": "code",
   "execution_count": 111,
   "id": "a9fd7612",
   "metadata": {},
   "outputs": [],
   "source": [
    "# Advanced Engineering\n",
    "airbnb_df[\"price_relative_to_neighbourhood\"] = airbnb_df.groupby(\"neighbourhood\")[\"price\"].transform(lambda pr: pr / pr.median())\n",
    "airbnb_df[\"avg_reviews_per_listing\"] = airbnb_df[\"number_of_reviews\"] / (airbnb_df[\"calculated_host_listings_count\"] + 1)"
   ]
  },
  {
   "cell_type": "code",
   "execution_count": 112,
   "id": "27e7fc44",
   "metadata": {},
   "outputs": [
    {
     "data": {
      "text/plain": [
       "house_rules                           51842\n",
       "license                              102056\n",
       "name_length                               0\n",
       "policy_flexible                           0\n",
       "policy_moderate                           0\n",
       "policy_strict                             0\n",
       "Entire home/apt                           0\n",
       "Hotel room                                0\n",
       "Private room                              0\n",
       "Shared room                               0\n",
       "neighbourhood_group_bronx                 0\n",
       "neighbourhood_group_brooklyn              0\n",
       "neighbourhood_group_manhattan             0\n",
       "neighbourhood_group_queens                0\n",
       "neighbourhood_group_staten island         0\n",
       "neighbourhood_group_williamsburg          0\n",
       "neigh_encoded                             0\n",
       "location_cluster                          0\n",
       "days_since_last_review                    0\n",
       "last_review_year                          0\n",
       "last_review_month                         0\n",
       "last_review_dayofweek                     0\n",
       "availability_ratio                        0\n",
       "price_per_min_stay                        0\n",
       "property_age                              0\n",
       "has_house_rules                           0\n",
       "has_license                               0\n",
       "total_cost                                0\n",
       "popularity_score                          0\n",
       "price_relative_to_neighbourhood           0\n",
       "avg_reviews_per_listing                   0\n",
       "dtype: int64"
      ]
     },
     "execution_count": 112,
     "metadata": {},
     "output_type": "execute_result"
    }
   ],
   "source": [
    "airbnb_df.isna().sum()[20:]"
   ]
  },
  {
   "cell_type": "code",
   "execution_count": 113,
   "id": "c06bff36",
   "metadata": {},
   "outputs": [],
   "source": [
    "airbnb_df.drop(columns= [\"id\", \"host_id\", \"neighbourhood\", \"host_name\", \"lat\", \"long\", \"country\", \"country_code\", \"house_rules\", \"license\"], inplace = True)"
   ]
  },
  {
   "cell_type": "code",
   "execution_count": null,
   "id": "26ce6558",
   "metadata": {},
   "outputs": [
    {
     "ename": "",
     "evalue": "",
     "output_type": "error",
     "traceback": [
      "\u001b[1;31mThe Kernel crashed while executing code in the current cell or a previous cell. \n",
      "\u001b[1;31mPlease review the code in the cell(s) to identify a possible cause of the failure. \n",
      "\u001b[1;31mClick <a href='https://aka.ms/vscodeJupyterKernelCrash'>here</a> for more info. \n",
      "\u001b[1;31mView Jupyter <a href='command:jupyter.viewOutput'>log</a> for further details."
     ]
    }
   ],
   "source": [
    "airbnb_df.to_csv(\"../data/transformed/airbnb_listings.csv\", index = False)"
   ]
  },
  {
   "cell_type": "code",
   "execution_count": null,
   "id": "2ffe7d9a",
   "metadata": {},
   "outputs": [],
   "source": []
  }
 ],
 "metadata": {
  "kernelspec": {
   "display_name": ".venv",
   "language": "python",
   "name": "python3"
  },
  "language_info": {
   "codemirror_mode": {
    "name": "ipython",
    "version": 3
   },
   "file_extension": ".py",
   "mimetype": "text/x-python",
   "name": "python",
   "nbconvert_exporter": "python",
   "pygments_lexer": "ipython3",
   "version": "3.13.3"
  }
 },
 "nbformat": 4,
 "nbformat_minor": 5
}
